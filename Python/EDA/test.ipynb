{
 "cells": [
  {
   "cell_type": "code",
   "execution_count": 4,
   "metadata": {},
   "outputs": [
    {
     "name": "stdout",
     "output_type": "stream",
     "text": [
      "     S.No.          Country    2021-2022   %Share    2022-2023  %Share.1  \\\n",
      "220    221            U S A  56796119.26  18.0476  63015151.31   17.4001   \n",
      "218    219      U ARAB EMTS  20915828.49   6.6462  25385238.28    7.0095   \n",
      "43      44       CHINA P RP  15821547.51   5.0275  12277398.94    3.3901   \n",
      "17      18    BANGLADESH PR  12053472.57   3.8301   9778450.59    2.7001   \n",
      "147    148       NETHERLAND   9372473.48   2.9782  17440918.30    4.8159   \n",
      "184    185        SINGAPORE   8301294.51   2.6378   9618496.34    2.6559   \n",
      "92      93        HONG KONG   8183452.88   2.6004   7949741.89    2.1951   \n",
      "219    220              U K   7799211.31   2.4783   9171501.11    2.5325   \n",
      "20      21          BELGIUM   7522465.09   2.3903   7099803.30    1.9604   \n",
      "78      79          GERMANY   7371637.84   2.3424   8139690.83    2.2476   \n",
      "146    147            NEPAL   7193921.63   2.2859   6477320.15    1.7885   \n",
      "179    180       SAUDI ARAB   6531013.73   2.0753   8627137.38    2.3822   \n",
      "214    215           TURKEY   6503732.44   2.0666   7726043.46    2.1334   \n",
      "95      96        INDONESIA   6319650.22   2.0081   8033518.43    2.2183   \n",
      "12      13        AUSTRALIA   6184104.67   1.9651   5555482.59    1.5340   \n",
      "100    101            ITALY   6095957.44   1.9371   6976287.42    1.9263   \n",
      "108    109         KOREA RP   6034956.81   1.9177   5327534.58    1.4711   \n",
      "124    125         MALAYSIA   5212357.37   1.6563   5726516.72    1.5812   \n",
      "230    231  VIETNAM SOC REP   4993740.82   1.5868   4754342.55    1.3128   \n",
      "74      75           FRANCE   4960509.68   1.5763   6104859.40    1.6857   \n",
      "\n",
      "     %Growth  \n",
      "220    10.95  \n",
      "218    21.37  \n",
      "43    -22.40  \n",
      "17    -18.87  \n",
      "147    86.09  \n",
      "184    15.87  \n",
      "92     -2.86  \n",
      "219    17.60  \n",
      "20     -5.62  \n",
      "78     10.42  \n",
      "146    -9.96  \n",
      "179    32.09  \n",
      "214    18.79  \n",
      "95     27.12  \n",
      "12    -10.17  \n",
      "100    14.44  \n",
      "108   -11.72  \n",
      "124     9.86  \n",
      "230    -4.79  \n",
      "74     23.07  \n"
     ]
    }
   ],
   "source": [
    "import pandas as pd\n",
    "\n",
    "# Load the CSV file\n",
    "file_path = 'C:/Users/Sana/Downloads/SCMS_practical_class/Python/EDA/data/country_wise.csv'\n",
    "\n",
    "# Read the CSV file\n",
    "df = pd.read_csv(file_path)\n",
    "\n",
    "# Ensure the '%Share' column is numeric (in case there are any issues with the format)\n",
    "df['%Share'] = pd.to_numeric(df['%Share'], errors='coerce')\n",
    "\n",
    "# Sort the DataFrame by '%Share' in descending order and pick the top 5 countries\n",
    "top_20_countries = df.sort_values(by='%Share', ascending=False).head(20)\n",
    "\n",
    "# Display the result\n",
    "print(top_20_countries)\n"
   ]
  },
  {
   "cell_type": "code",
   "execution_count": 6,
   "metadata": {},
   "outputs": [
    {
     "name": "stdout",
     "output_type": "stream",
     "text": [
      "     S.No.      Country    2021-2022  %Share    2022-2023  %Share.1  %Growth\n",
      "147    148   NETHERLAND   9372473.48  2.9782  17440918.30    4.8159    86.09\n",
      "179    180   SAUDI ARAB   6531013.73  2.0753   8627137.38    2.3822    32.09\n",
      "95      96    INDONESIA   6319650.22  2.0081   8033518.43    2.2183    27.12\n",
      "74      75       FRANCE   4960509.68  1.5763   6104859.40    1.6857    23.07\n",
      "218    219  U ARAB EMTS  20915828.49  6.6462  25385238.28    7.0095    21.37\n"
     ]
    }
   ],
   "source": [
    "# Sort the top_2_countries DataFrame by 'growth%' in descending order and pick the top 5 countries\n",
    "top_5_countries = top_20_countries.sort_values(by='%Growth', ascending=False).head(5)\n",
    "\n",
    "# Display the result\n",
    "print(top_5_countries)"
   ]
  }
 ],
 "metadata": {
  "kernelspec": {
   "display_name": ".venv",
   "language": "python",
   "name": "python3"
  },
  "language_info": {
   "codemirror_mode": {
    "name": "ipython",
    "version": 3
   },
   "file_extension": ".py",
   "mimetype": "text/x-python",
   "name": "python",
   "nbconvert_exporter": "python",
   "pygments_lexer": "ipython3",
   "version": "3.12.6"
  }
 },
 "nbformat": 4,
 "nbformat_minor": 2
}
